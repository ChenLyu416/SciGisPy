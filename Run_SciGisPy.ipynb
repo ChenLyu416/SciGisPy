{
 "cells": [
  {
   "cell_type": "code",
   "execution_count": null,
   "id": "7cf144ce-939b-4e28-a833-756937fdf7c3",
   "metadata": {},
   "outputs": [],
   "source": [
    "import importlib\n",
    "\n",
    "import analysis_utils\n",
    "importlib.reload(analysis_utils)\n",
    "\n",
    "import constants\n",
    "importlib.reload(constants)"
   ]
  },
  {
   "cell_type": "code",
   "execution_count": null,
   "id": "6f631181-4a3a-4d52-ba19-c7b56cde227f",
   "metadata": {},
   "outputs": [],
   "source": [
    "# get cochrane test dataset\n",
    "# to use your own dataset, add paths to constants.datasets_descr\n",
    "cochrane_test_descr = analysis_utils.get_dataset_descr_by_name('cochrane_test_descr', constants.datasets_descr)"
   ]
  },
  {
   "cell_type": "code",
   "execution_count": null,
   "id": "6e1e369a-30dc-4575-8fd3-f889c786431b",
   "metadata": {},
   "outputs": [],
   "source": [
    "# get config that replicates the original GisPy formula\n",
    "default_config = analysis_utils.get_gis_config_by_name('gispy_original', constants.gis_configs)\n",
    "\n",
    "# get config that replicates the best formula\n",
    "# you can also costomize the config for your own analysis, by modifying constants.gis_configs\n",
    "comb_config = analysis_utils.get_gis_config_by_name('best_formula', constants.gis_configs)"
   ]
  },
  {
   "cell_type": "code",
   "execution_count": null,
   "id": "a5f9f084-86da-4362-800b-153b84afd959",
   "metadata": {},
   "outputs": [],
   "source": [
    "test_configs = [default_config, comb_config] # list of configs to test and compare\n",
    "\n",
    "# run SciGisPy for the analysis\n",
    "analysis_utils.test_gis_diff_for_configs(dataset_descr=cochrane_test_descr, configs=test_configs,\n",
    "                          min_sentence_count=0, quiet=True, add_blank_rows=False, add_dataset_name=False, \n",
    "                          key_simplified='pls')"
   ]
  }
 ],
 "metadata": {
  "kernelspec": {
   "display_name": "SciGisPy",
   "language": "python",
   "name": "scigispy"
  },
  "language_info": {
   "codemirror_mode": {
    "name": "ipython",
    "version": 3
   },
   "file_extension": ".py",
   "mimetype": "text/x-python",
   "name": "python",
   "nbconvert_exporter": "python",
   "pygments_lexer": "ipython3",
   "version": "3.8.10"
  }
 },
 "nbformat": 4,
 "nbformat_minor": 5
}
