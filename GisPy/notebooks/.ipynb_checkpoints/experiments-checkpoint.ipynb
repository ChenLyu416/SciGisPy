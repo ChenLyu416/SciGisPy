{
 "cells": [
  {
   "cell_type": "markdown",
   "source": [
    "## Disclaimer\n",
    "\n",
    "This notebook was originally provided by the authors of GisPy, I just removed some parts and kept only the relevant bits\n",
    "\n",
    "## How to use\n",
    "\n",
    "In order to choose the set of sub-metrics and their coefficients, edit the `get_variables_dict` function in `GisPy/gispy/data_reader.py`,\n",
    "then run the three cells."
   ],
   "metadata": {
    "collapsed": false
   }
  },
  {
   "cell_type": "code",
   "execution_count": 1,
   "metadata": {
    "ExecuteTime": {
     "end_time": "2023-08-31T12:00:55.697716300Z",
     "start_time": "2023-08-31T12:00:28.082274800Z"
    }
   },
   "outputs": [
    {
     "name": "stderr",
     "output_type": "stream",
     "text": [
      "Warning : `load_model` does not return WordVectorModel or SupervisedModel any more, but a `FastText` object which is very similar.\n"
     ]
    }
   ],
   "source": [
    "import os\n",
    "import sys\n",
    "\n",
    "sys.path.insert(0, os.path.abspath('..') + '/gispy')\n",
    "\n",
    "import re\n",
    "import copy\n",
    "import statistics\n",
    "import numpy as np\n",
    "import pandas as pd\n",
    "\n",
    "from gist import GIS\n",
    "from benchmarks import Wolfe\n",
    "from utils import create_kfolds\n",
    "from data_reader import GisPyData"
   ]
  },
  {
   "cell_type": "markdown",
   "metadata": {},
   "source": [
    "## Benchmark 1: Reports `(low gist)` vs. Editorials `(high gist)`"
   ]
  },
  {
   "cell_type": "code",
   "execution_count": 2,
   "metadata": {
    "ExecuteTime": {
     "end_time": "2023-08-31T12:00:55.795130200Z",
     "start_time": "2023-08-31T12:00:55.671692Z"
    }
   },
   "outputs": [
    {
     "name": "stdout",
     "output_type": "stream",
     "text": [
      "Config 1/1...\n"
     ]
    },
    {
     "data": {
      "text/plain": "                                           vars_name  mean_gist_yes  \\\n0  0#1zPCREF_ap#1zPCDC#1zSMCAUSe_1p#-1zSMCAUSwn_a...      -0.260151   \n\n   mean_gist_no  distance  ttest_statistic  ttest_pvalue  \n0     -1.074454  0.814302         4.716136      0.000021  ",
      "text/html": "<div>\n<style scoped>\n    .dataframe tbody tr th:only-of-type {\n        vertical-align: middle;\n    }\n\n    .dataframe tbody tr th {\n        vertical-align: top;\n    }\n\n    .dataframe thead th {\n        text-align: right;\n    }\n</style>\n<table border=\"1\" class=\"dataframe\">\n  <thead>\n    <tr style=\"text-align: right;\">\n      <th></th>\n      <th>vars_name</th>\n      <th>mean_gist_yes</th>\n      <th>mean_gist_no</th>\n      <th>distance</th>\n      <th>ttest_statistic</th>\n      <th>ttest_pvalue</th>\n    </tr>\n  </thead>\n  <tbody>\n    <tr>\n      <th>0</th>\n      <td>0#1zPCREF_ap#1zPCDC#1zSMCAUSe_1p#-1zSMCAUSwn_a...</td>\n      <td>-0.260151</td>\n      <td>-1.074454</td>\n      <td>0.814302</td>\n      <td>4.716136</td>\n      <td>0.000021</td>\n    </tr>\n  </tbody>\n</table>\n</div>"
     },
     "execution_count": 2,
     "metadata": {},
     "output_type": "execute_result"
    }
   ],
   "source": [
    "prefix_names = dict()\n",
    "prefix_names['gist_yes'] = 'editorials'\n",
    "prefix_names['gist_no'] = 'report'\n",
    "ro_results = Wolfe().run_benchmark('../gispy/wolfe_gispy.csv', prefix_names, \n",
    "                                   use_wolfe_vars=False, \n",
    "                                   use_gispy_vars=True, \n",
    "                                   plot=False)\n",
    "ro_results.head(10)"
   ]
  },
  {
   "cell_type": "markdown",
   "metadata": {},
   "source": [
    "## Benchmark 2: Methods `(low gist)` vs. Discussion `(high gist)`"
   ]
  },
  {
   "cell_type": "code",
   "execution_count": 3,
   "metadata": {
    "ExecuteTime": {
     "end_time": "2023-08-31T12:00:55.896223200Z",
     "start_time": "2023-08-31T12:00:55.795130200Z"
    }
   },
   "outputs": [
    {
     "name": "stdout",
     "output_type": "stream",
     "text": [
      "Config 1/1...\n"
     ]
    },
    {
     "data": {
      "text/plain": "                                           vars_name  mean_gist_yes  \\\n0  0#1zPCREF_ap#1zPCDC#1zSMCAUSe_1p#-1zSMCAUSwn_a...       1.188094   \n\n   mean_gist_no  distance  ttest_statistic  ttest_pvalue  \n0      0.146511  1.041582         6.432163  5.465148e-08  ",
      "text/html": "<div>\n<style scoped>\n    .dataframe tbody tr th:only-of-type {\n        vertical-align: middle;\n    }\n\n    .dataframe tbody tr th {\n        vertical-align: top;\n    }\n\n    .dataframe thead th {\n        text-align: right;\n    }\n</style>\n<table border=\"1\" class=\"dataframe\">\n  <thead>\n    <tr style=\"text-align: right;\">\n      <th></th>\n      <th>vars_name</th>\n      <th>mean_gist_yes</th>\n      <th>mean_gist_no</th>\n      <th>distance</th>\n      <th>ttest_statistic</th>\n      <th>ttest_pvalue</th>\n    </tr>\n  </thead>\n  <tbody>\n    <tr>\n      <th>0</th>\n      <td>0#1zPCREF_ap#1zPCDC#1zSMCAUSe_1p#-1zSMCAUSwn_a...</td>\n      <td>1.188094</td>\n      <td>0.146511</td>\n      <td>1.041582</td>\n      <td>6.432163</td>\n      <td>5.465148e-08</td>\n    </tr>\n  </tbody>\n</table>\n</div>"
     },
     "execution_count": 3,
     "metadata": {},
     "output_type": "execute_result"
    }
   ],
   "source": [
    "prefix_names = dict()\n",
    "prefix_names['gist_yes'] = 'discussion'\n",
    "prefix_names['gist_no'] = 'methods'\n",
    "md_results = Wolfe().run_benchmark('../gispy/wolfe_gispy.csv', prefix_names, \n",
    "                                   use_wolfe_vars=False, \n",
    "                                   use_gispy_vars=True, \n",
    "                                   plot=False)\n",
    "md_results.head(10)"
   ]
  },
  {
   "cell_type": "markdown",
   "metadata": {},
   "source": [
    "## Benchmark 3: Disney's Gist=`Yes` vs. Gist=`No`"
   ]
  },
  {
   "cell_type": "code",
   "execution_count": 4,
   "metadata": {
    "ExecuteTime": {
     "end_time": "2023-08-31T12:00:56.016331200Z",
     "start_time": "2023-08-31T12:00:55.877204700Z"
    }
   },
   "outputs": [
    {
     "name": "stdout",
     "output_type": "stream",
     "text": [
      "Config 1/1...\n"
     ]
    },
    {
     "data": {
      "text/plain": "                                           vars_name  mean_gist_yes  \\\n0  0#1zPCREF_ap#1zPCDC#1zSMCAUSe_1p#-1zSMCAUSwn_a...       0.126631   \n\n   mean_gist_no  distance  ttest_statistic  ttest_pvalue  \n0     -0.489862  0.616493         3.478873      0.000629  ",
      "text/html": "<div>\n<style scoped>\n    .dataframe tbody tr th:only-of-type {\n        vertical-align: middle;\n    }\n\n    .dataframe tbody tr th {\n        vertical-align: top;\n    }\n\n    .dataframe thead th {\n        text-align: right;\n    }\n</style>\n<table border=\"1\" class=\"dataframe\">\n  <thead>\n    <tr style=\"text-align: right;\">\n      <th></th>\n      <th>vars_name</th>\n      <th>mean_gist_yes</th>\n      <th>mean_gist_no</th>\n      <th>distance</th>\n      <th>ttest_statistic</th>\n      <th>ttest_pvalue</th>\n    </tr>\n  </thead>\n  <tbody>\n    <tr>\n      <th>0</th>\n      <td>0#1zPCREF_ap#1zPCDC#1zSMCAUSe_1p#-1zSMCAUSwn_a...</td>\n      <td>0.126631</td>\n      <td>-0.489862</td>\n      <td>0.616493</td>\n      <td>3.478873</td>\n      <td>0.000629</td>\n    </tr>\n  </tbody>\n</table>\n</div>"
     },
     "execution_count": 4,
     "metadata": {},
     "output_type": "execute_result"
    }
   ],
   "source": [
    "prefix_names = dict()\n",
    "prefix_names['gist_yes'] = 'yes'\n",
    "prefix_names['gist_no'] = 'no'\n",
    "yn_results = Wolfe().run_benchmark('../gispy/disney_gispy.csv', prefix_names, \n",
    "                                   use_wolfe_vars=False, \n",
    "                                   use_gispy_vars=True, \n",
    "                                   plot=False)\n",
    "yn_results.head(10)"
   ]
  }
 ],
 "metadata": {
  "kernelspec": {
   "name": "python3",
   "language": "python",
   "display_name": "Python 3 (ipykernel)"
  },
  "language_info": {
   "codemirror_mode": {
    "name": "ipython",
    "version": 3
   },
   "file_extension": ".py",
   "mimetype": "text/x-python",
   "name": "python",
   "nbconvert_exporter": "python",
   "pygments_lexer": "ipython3",
   "version": "3.7.12"
  }
 },
 "nbformat": 4,
 "nbformat_minor": 4
}
