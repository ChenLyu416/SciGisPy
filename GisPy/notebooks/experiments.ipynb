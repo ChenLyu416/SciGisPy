{
 "cells": [
  {
   "cell_type": "markdown",
   "metadata": {
    "collapsed": false,
    "jupyter": {
     "outputs_hidden": false
    }
   },
   "source": [
    "## Disclaimer\n",
    "\n",
    "This notebook was originally provided by the authors of GisPy, I just removed some parts and kept only the relevant bits\n",
    "\n",
    "## How to use\n",
    "\n",
    "In order to choose the set of sub-metrics and their coefficients, edit the `get_variables_dict` function in `GisPy/gispy/data_reader.py`,\n",
    "then run the three cells."
   ]
  },
  {
   "cell_type": "code",
   "execution_count": 5,
   "metadata": {
    "ExecuteTime": {
     "end_time": "2023-08-31T12:00:55.697716300Z",
     "start_time": "2023-08-31T12:00:28.082274800Z"
    }
   },
   "outputs": [],
   "source": [
    "import os\n",
    "import sys\n",
    "\n",
    "sys.path.insert(0, os.path.abspath('..') + '/gispy')\n",
    "\n",
    "import re\n",
    "import copy\n",
    "import statistics\n",
    "import numpy as np\n",
    "import pandas as pd\n",
    "\n",
    "from gist import GIS\n",
    "from benchmarks import Wolfe\n",
    "from utils import create_kfolds\n",
    "from data_reader import GisPyData"
   ]
  },
  {
   "cell_type": "markdown",
   "metadata": {},
   "source": [
    "## Benchmark 1: Reports `(low gist)` vs. Editorials `(high gist)`"
   ]
  },
  {
   "cell_type": "code",
   "execution_count": 6,
   "metadata": {
    "ExecuteTime": {
     "end_time": "2023-08-31T12:00:55.795130200Z",
     "start_time": "2023-08-31T12:00:55.671692Z"
    }
   },
   "outputs": [
    {
     "name": "stdout",
     "output_type": "stream",
     "text": [
      "Config 1/1...\n"
     ]
    },
    {
     "ename": "KeyError",
     "evalue": "'SEMCHUNK_mxbai'",
     "output_type": "error",
     "traceback": [
      "\u001b[0;31m---------------------------------------------------------------------------\u001b[0m",
      "\u001b[0;31mKeyError\u001b[0m                                  Traceback (most recent call last)",
      "File \u001b[0;32m~/MyVenv/gispy/lib/python3.8/site-packages/pandas/core/indexes/base.py:3361\u001b[0m, in \u001b[0;36mIndex.get_loc\u001b[0;34m(self, key, method, tolerance)\u001b[0m\n\u001b[1;32m   3360\u001b[0m \u001b[38;5;28;01mtry\u001b[39;00m:\n\u001b[0;32m-> 3361\u001b[0m     \u001b[38;5;28;01mreturn\u001b[39;00m \u001b[38;5;28;43mself\u001b[39;49m\u001b[38;5;241;43m.\u001b[39;49m\u001b[43m_engine\u001b[49m\u001b[38;5;241;43m.\u001b[39;49m\u001b[43mget_loc\u001b[49m\u001b[43m(\u001b[49m\u001b[43mcasted_key\u001b[49m\u001b[43m)\u001b[49m\n\u001b[1;32m   3362\u001b[0m \u001b[38;5;28;01mexcept\u001b[39;00m \u001b[38;5;167;01mKeyError\u001b[39;00m \u001b[38;5;28;01mas\u001b[39;00m err:\n",
      "File \u001b[0;32m~/MyVenv/gispy/lib/python3.8/site-packages/pandas/_libs/index.pyx:76\u001b[0m, in \u001b[0;36mpandas._libs.index.IndexEngine.get_loc\u001b[0;34m()\u001b[0m\n",
      "File \u001b[0;32m~/MyVenv/gispy/lib/python3.8/site-packages/pandas/_libs/index.pyx:108\u001b[0m, in \u001b[0;36mpandas._libs.index.IndexEngine.get_loc\u001b[0;34m()\u001b[0m\n",
      "File \u001b[0;32mpandas/_libs/hashtable_class_helper.pxi:5198\u001b[0m, in \u001b[0;36mpandas._libs.hashtable.PyObjectHashTable.get_item\u001b[0;34m()\u001b[0m\n",
      "File \u001b[0;32mpandas/_libs/hashtable_class_helper.pxi:5206\u001b[0m, in \u001b[0;36mpandas._libs.hashtable.PyObjectHashTable.get_item\u001b[0;34m()\u001b[0m\n",
      "\u001b[0;31mKeyError\u001b[0m: 'SEMCHUNK_mxbai'",
      "\nThe above exception was the direct cause of the following exception:\n",
      "\u001b[0;31mKeyError\u001b[0m                                  Traceback (most recent call last)",
      "Cell \u001b[0;32mIn[6], line 4\u001b[0m\n\u001b[1;32m      2\u001b[0m prefix_names[\u001b[38;5;124m'\u001b[39m\u001b[38;5;124mgist_yes\u001b[39m\u001b[38;5;124m'\u001b[39m] \u001b[38;5;241m=\u001b[39m \u001b[38;5;124m'\u001b[39m\u001b[38;5;124meditorials\u001b[39m\u001b[38;5;124m'\u001b[39m\n\u001b[1;32m      3\u001b[0m prefix_names[\u001b[38;5;124m'\u001b[39m\u001b[38;5;124mgist_no\u001b[39m\u001b[38;5;124m'\u001b[39m] \u001b[38;5;241m=\u001b[39m \u001b[38;5;124m'\u001b[39m\u001b[38;5;124mreport\u001b[39m\u001b[38;5;124m'\u001b[39m\n\u001b[0;32m----> 4\u001b[0m ro_results \u001b[38;5;241m=\u001b[39m \u001b[43mWolfe\u001b[49m\u001b[43m(\u001b[49m\u001b[43m)\u001b[49m\u001b[38;5;241;43m.\u001b[39;49m\u001b[43mrun_benchmark\u001b[49m\u001b[43m(\u001b[49m\u001b[38;5;124;43m'\u001b[39;49m\u001b[38;5;124;43m../gispy/wolfe_gispy.csv\u001b[39;49m\u001b[38;5;124;43m'\u001b[39;49m\u001b[43m,\u001b[49m\u001b[43m \u001b[49m\u001b[43mprefix_names\u001b[49m\u001b[43m,\u001b[49m\u001b[43m \u001b[49m\n\u001b[1;32m      5\u001b[0m \u001b[43m                                   \u001b[49m\u001b[43muse_wolfe_vars\u001b[49m\u001b[38;5;241;43m=\u001b[39;49m\u001b[38;5;28;43;01mFalse\u001b[39;49;00m\u001b[43m,\u001b[49m\u001b[43m \u001b[49m\n\u001b[1;32m      6\u001b[0m \u001b[43m                                   \u001b[49m\u001b[43muse_gispy_vars\u001b[49m\u001b[38;5;241;43m=\u001b[39;49m\u001b[38;5;28;43;01mTrue\u001b[39;49;00m\u001b[43m,\u001b[49m\u001b[43m \u001b[49m\n\u001b[1;32m      7\u001b[0m \u001b[43m                                   \u001b[49m\u001b[43mplot\u001b[49m\u001b[38;5;241;43m=\u001b[39;49m\u001b[38;5;28;43;01mFalse\u001b[39;49;00m\u001b[43m)\u001b[49m\n\u001b[1;32m      8\u001b[0m ro_results\u001b[38;5;241m.\u001b[39mhead(\u001b[38;5;241m10\u001b[39m)\n",
      "File \u001b[0;32m~/GistMedSimp/code/old_code/GistMedSimp-Old-Analysis/GisPy/gispy/benchmarks.py:142\u001b[0m, in \u001b[0;36mWolfe.run_benchmark\u001b[0;34m(self, gispy_indices_file, prefix_names, doc_filter, use_wolfe_vars, use_gispy_vars, custom_vars, plot)\u001b[0m\n\u001b[1;32m    140\u001b[0m \u001b[38;5;28;01mfor\u001b[39;00m i, vars_dict \u001b[38;5;129;01min\u001b[39;00m \u001b[38;5;28menumerate\u001b[39m(vars_dicts):\n\u001b[1;32m    141\u001b[0m     \u001b[38;5;28mprint\u001b[39m(\u001b[38;5;124mf\u001b[39m\u001b[38;5;124m'\u001b[39m\u001b[38;5;124mConfig \u001b[39m\u001b[38;5;132;01m{\u001b[39;00mi\u001b[38;5;241m+\u001b[39m\u001b[38;5;241m1\u001b[39m\u001b[38;5;132;01m}\u001b[39;00m\u001b[38;5;124m/\u001b[39m\u001b[38;5;132;01m{\u001b[39;00m\u001b[38;5;28mlen\u001b[39m(vars_dicts)\u001b[38;5;132;01m}\u001b[39;00m\u001b[38;5;124m...\u001b[39m\u001b[38;5;124m'\u001b[39m)\n\u001b[0;32m--> 142\u001b[0m     result, df_yes, df_no \u001b[38;5;241m=\u001b[39m \u001b[43mWolfe\u001b[49m\u001b[43m(\u001b[49m\u001b[43m)\u001b[49m\u001b[38;5;241;43m.\u001b[39;49m\u001b[43mwolfe_eval\u001b[49m\u001b[43m(\u001b[49m\u001b[43mgispy_indices_file\u001b[49m\u001b[43m,\u001b[49m\n\u001b[1;32m    143\u001b[0m \u001b[43m                                               \u001b[49m\u001b[43mprefix_names\u001b[49m\u001b[43m,\u001b[49m\n\u001b[1;32m    144\u001b[0m \u001b[43m                                               \u001b[49m\u001b[43mvars_dict\u001b[49m\u001b[43m,\u001b[49m\n\u001b[1;32m    145\u001b[0m \u001b[43m                                               \u001b[49m\u001b[43mdoc_filter\u001b[49m\u001b[43m,\u001b[49m\n\u001b[1;32m    146\u001b[0m \u001b[43m                                               \u001b[49m\u001b[43muse_wolfe_vars\u001b[49m\u001b[38;5;241;43m=\u001b[39;49m\u001b[43muse_wolfe_vars\u001b[49m\u001b[43m,\u001b[49m\n\u001b[1;32m    147\u001b[0m \u001b[43m                                               \u001b[49m\u001b[43muse_gispy_vars\u001b[49m\u001b[38;5;241;43m=\u001b[39;49m\u001b[43muse_gispy_vars\u001b[49m\u001b[43m)\u001b[49m\n\u001b[1;32m    148\u001b[0m     vars_string, vars_list \u001b[38;5;241m=\u001b[39m GisPyData()\u001b[38;5;241m.\u001b[39mgenerate_variables_dict_id(vars_dict)\n\u001b[1;32m    149\u001b[0m     vars_string \u001b[38;5;241m=\u001b[39m \u001b[38;5;28mstr\u001b[39m(plot_id) \u001b[38;5;241m+\u001b[39m \u001b[38;5;124m'\u001b[39m\u001b[38;5;124m#\u001b[39m\u001b[38;5;124m'\u001b[39m \u001b[38;5;241m+\u001b[39m vars_string\n",
      "File \u001b[0;32m~/GistMedSimp/code/old_code/GistMedSimp-Old-Analysis/GisPy/gispy/benchmarks.py:101\u001b[0m, in \u001b[0;36mWolfe.wolfe_eval\u001b[0;34m(input_file, prefix_names, variables, doc_filter, use_wolfe_vars, use_gispy_vars)\u001b[0m\n\u001b[1;32m     98\u001b[0m \u001b[38;5;129m@staticmethod\u001b[39m\n\u001b[1;32m     99\u001b[0m \u001b[38;5;28;01mdef\u001b[39;00m \u001b[38;5;21mwolfe_eval\u001b[39m(input_file, prefix_names, variables, doc_filter, use_wolfe_vars\u001b[38;5;241m=\u001b[39m\u001b[38;5;28;01mFalse\u001b[39;00m, use_gispy_vars\u001b[38;5;241m=\u001b[39m\u001b[38;5;28;01mFalse\u001b[39;00m):\n\u001b[1;32m    100\u001b[0m     df \u001b[38;5;241m=\u001b[39m pd\u001b[38;5;241m.\u001b[39mread_csv(input_file)\n\u001b[0;32m--> 101\u001b[0m     df \u001b[38;5;241m=\u001b[39m \u001b[43mGIS\u001b[49m\u001b[43m(\u001b[49m\u001b[43m)\u001b[49m\u001b[38;5;241;43m.\u001b[39;49m\u001b[43mscore\u001b[49m\u001b[43m(\u001b[49m\u001b[43mdf\u001b[49m\u001b[43m,\u001b[49m\u001b[43m \u001b[49m\u001b[43mvariables\u001b[49m\u001b[43m,\u001b[49m\u001b[43m \u001b[49m\u001b[43mwolfe\u001b[49m\u001b[38;5;241;43m=\u001b[39;49m\u001b[43muse_wolfe_vars\u001b[49m\u001b[43m,\u001b[49m\u001b[43m \u001b[49m\u001b[43mgispy\u001b[49m\u001b[38;5;241;43m=\u001b[39;49m\u001b[43muse_gispy_vars\u001b[49m\u001b[43m)\u001b[49m\n\u001b[1;32m    102\u001b[0m     df[\u001b[38;5;124m'\u001b[39m\u001b[38;5;124mzero\u001b[39m\u001b[38;5;124m'\u001b[39m] \u001b[38;5;241m=\u001b[39m \u001b[38;5;241m0\u001b[39m\n\u001b[1;32m    103\u001b[0m     df[\u001b[38;5;124m'\u001b[39m\u001b[38;5;124mzgis\u001b[39m\u001b[38;5;124m'\u001b[39m] \u001b[38;5;241m=\u001b[39m st\u001b[38;5;241m.\u001b[39mzscore(df[\u001b[38;5;124m'\u001b[39m\u001b[38;5;124mgis\u001b[39m\u001b[38;5;124m'\u001b[39m]\u001b[38;5;241m.\u001b[39mastype(\u001b[38;5;28mfloat\u001b[39m), nan_policy\u001b[38;5;241m=\u001b[39m\u001b[38;5;124m'\u001b[39m\u001b[38;5;124momit\u001b[39m\u001b[38;5;124m'\u001b[39m)\n",
      "File \u001b[0;32m~/GistMedSimp/code/old_code/GistMedSimp-Old-Analysis/GisPy/gispy/gist.py:1012\u001b[0m, in \u001b[0;36mGIS.score\u001b[0;34m(self, df, variables, wolfe, gispy)\u001b[0m\n\u001b[1;32m   1010\u001b[0m columns \u001b[38;5;241m=\u001b[39m \u001b[38;5;28mself\u001b[39m\u001b[38;5;241m.\u001b[39mgispy_columns \u001b[38;5;28;01mif\u001b[39;00m gispy \u001b[38;5;28;01melse\u001b[39;00m \u001b[38;5;28mself\u001b[39m\u001b[38;5;241m.\u001b[39mcohmetrix_columns\n\u001b[1;32m   1011\u001b[0m \u001b[38;5;28;01mfor\u001b[39;00m column \u001b[38;5;129;01min\u001b[39;00m columns:\n\u001b[0;32m-> 1012\u001b[0m     df[\u001b[38;5;124m\"\u001b[39m\u001b[38;5;124mz\u001b[39m\u001b[38;5;132;01m{}\u001b[39;00m\u001b[38;5;124m\"\u001b[39m\u001b[38;5;241m.\u001b[39mformat(column)] \u001b[38;5;241m=\u001b[39m \u001b[38;5;28;43mself\u001b[39;49m\u001b[38;5;241;43m.\u001b[39;49m\u001b[43m_z_score\u001b[49m\u001b[43m(\u001b[49m\u001b[43mdf\u001b[49m\u001b[43m,\u001b[49m\u001b[43m \u001b[49m\u001b[43mindex_name\u001b[49m\u001b[38;5;241;43m=\u001b[39;49m\u001b[43mcolumn\u001b[49m\u001b[43m,\u001b[49m\u001b[43m \u001b[49m\u001b[43mwolfe\u001b[49m\u001b[38;5;241;43m=\u001b[39;49m\u001b[43mwolfe\u001b[49m\u001b[43m)\u001b[49m\n\u001b[1;32m   1014\u001b[0m df[\u001b[38;5;124m'\u001b[39m\u001b[38;5;124mzero\u001b[39m\u001b[38;5;124m'\u001b[39m] \u001b[38;5;241m=\u001b[39m \u001b[38;5;241m0\u001b[39m\n\u001b[1;32m   1015\u001b[0m \u001b[38;5;66;03m# computing the Gist Inference Score (GIS)\u001b[39;00m\n",
      "File \u001b[0;32m~/GistMedSimp/code/old_code/GistMedSimp-Old-Analysis/GisPy/gispy/gist.py:983\u001b[0m, in \u001b[0;36mGIS._z_score\u001b[0;34m(self, df, index_name, wolfe)\u001b[0m\n\u001b[1;32m    980\u001b[0m     \u001b[38;5;28;01mreturn\u001b[39;00m df[index_name]\u001b[38;5;241m.\u001b[39mmap(\n\u001b[1;32m    981\u001b[0m         \u001b[38;5;28;01mlambda\u001b[39;00m x: (x \u001b[38;5;241m-\u001b[39m \u001b[38;5;28mself\u001b[39m\u001b[38;5;241m.\u001b[39mwolfe_mean_sd[index_name][\u001b[38;5;124m'\u001b[39m\u001b[38;5;124mmean\u001b[39m\u001b[38;5;124m'\u001b[39m]) \u001b[38;5;241m/\u001b[39m \u001b[38;5;28mself\u001b[39m\u001b[38;5;241m.\u001b[39mwolfe_mean_sd[index_name][\u001b[38;5;124m'\u001b[39m\u001b[38;5;124msd\u001b[39m\u001b[38;5;124m'\u001b[39m])\n\u001b[1;32m    982\u001b[0m \u001b[38;5;28;01melse\u001b[39;00m:\n\u001b[0;32m--> 983\u001b[0m     \u001b[38;5;28;01mreturn\u001b[39;00m stats\u001b[38;5;241m.\u001b[39mzscore(\u001b[43mdf\u001b[49m\u001b[43m[\u001b[49m\u001b[43mindex_name\u001b[49m\u001b[43m]\u001b[49m\u001b[38;5;241m.\u001b[39mastype(\u001b[38;5;28mfloat\u001b[39m), nan_policy\u001b[38;5;241m=\u001b[39m\u001b[38;5;124m'\u001b[39m\u001b[38;5;124momit\u001b[39m\u001b[38;5;124m'\u001b[39m)\n",
      "File \u001b[0;32m~/MyVenv/gispy/lib/python3.8/site-packages/pandas/core/frame.py:3458\u001b[0m, in \u001b[0;36mDataFrame.__getitem__\u001b[0;34m(self, key)\u001b[0m\n\u001b[1;32m   3456\u001b[0m \u001b[38;5;28;01mif\u001b[39;00m \u001b[38;5;28mself\u001b[39m\u001b[38;5;241m.\u001b[39mcolumns\u001b[38;5;241m.\u001b[39mnlevels \u001b[38;5;241m>\u001b[39m \u001b[38;5;241m1\u001b[39m:\n\u001b[1;32m   3457\u001b[0m     \u001b[38;5;28;01mreturn\u001b[39;00m \u001b[38;5;28mself\u001b[39m\u001b[38;5;241m.\u001b[39m_getitem_multilevel(key)\n\u001b[0;32m-> 3458\u001b[0m indexer \u001b[38;5;241m=\u001b[39m \u001b[38;5;28;43mself\u001b[39;49m\u001b[38;5;241;43m.\u001b[39;49m\u001b[43mcolumns\u001b[49m\u001b[38;5;241;43m.\u001b[39;49m\u001b[43mget_loc\u001b[49m\u001b[43m(\u001b[49m\u001b[43mkey\u001b[49m\u001b[43m)\u001b[49m\n\u001b[1;32m   3459\u001b[0m \u001b[38;5;28;01mif\u001b[39;00m is_integer(indexer):\n\u001b[1;32m   3460\u001b[0m     indexer \u001b[38;5;241m=\u001b[39m [indexer]\n",
      "File \u001b[0;32m~/MyVenv/gispy/lib/python3.8/site-packages/pandas/core/indexes/base.py:3363\u001b[0m, in \u001b[0;36mIndex.get_loc\u001b[0;34m(self, key, method, tolerance)\u001b[0m\n\u001b[1;32m   3361\u001b[0m         \u001b[38;5;28;01mreturn\u001b[39;00m \u001b[38;5;28mself\u001b[39m\u001b[38;5;241m.\u001b[39m_engine\u001b[38;5;241m.\u001b[39mget_loc(casted_key)\n\u001b[1;32m   3362\u001b[0m     \u001b[38;5;28;01mexcept\u001b[39;00m \u001b[38;5;167;01mKeyError\u001b[39;00m \u001b[38;5;28;01mas\u001b[39;00m err:\n\u001b[0;32m-> 3363\u001b[0m         \u001b[38;5;28;01mraise\u001b[39;00m \u001b[38;5;167;01mKeyError\u001b[39;00m(key) \u001b[38;5;28;01mfrom\u001b[39;00m \u001b[38;5;21;01merr\u001b[39;00m\n\u001b[1;32m   3365\u001b[0m \u001b[38;5;28;01mif\u001b[39;00m is_scalar(key) \u001b[38;5;129;01mand\u001b[39;00m isna(key) \u001b[38;5;129;01mand\u001b[39;00m \u001b[38;5;129;01mnot\u001b[39;00m \u001b[38;5;28mself\u001b[39m\u001b[38;5;241m.\u001b[39mhasnans:\n\u001b[1;32m   3366\u001b[0m     \u001b[38;5;28;01mraise\u001b[39;00m \u001b[38;5;167;01mKeyError\u001b[39;00m(key)\n",
      "\u001b[0;31mKeyError\u001b[0m: 'SEMCHUNK_mxbai'"
     ]
    }
   ],
   "source": [
    "prefix_names = dict()\n",
    "prefix_names['gist_yes'] = 'editorials'\n",
    "prefix_names['gist_no'] = 'report'\n",
    "ro_results = Wolfe().run_benchmark('../gispy/wolfe_gispy.csv', prefix_names, \n",
    "                                   use_wolfe_vars=False, \n",
    "                                   use_gispy_vars=True, \n",
    "                                   plot=False)\n",
    "ro_results.head(10)"
   ]
  },
  {
   "cell_type": "markdown",
   "metadata": {},
   "source": [
    "## Benchmark 2: Methods `(low gist)` vs. Discussion `(high gist)`"
   ]
  },
  {
   "cell_type": "code",
   "execution_count": 3,
   "metadata": {
    "ExecuteTime": {
     "end_time": "2023-08-31T12:00:55.896223200Z",
     "start_time": "2023-08-31T12:00:55.795130200Z"
    }
   },
   "outputs": [
    {
     "name": "stdout",
     "output_type": "stream",
     "text": [
      "Config 1/1...\n"
     ]
    },
    {
     "data": {
      "text/html": [
       "<div>\n",
       "<style scoped>\n",
       "    .dataframe tbody tr th:only-of-type {\n",
       "        vertical-align: middle;\n",
       "    }\n",
       "\n",
       "    .dataframe tbody tr th {\n",
       "        vertical-align: top;\n",
       "    }\n",
       "\n",
       "    .dataframe thead th {\n",
       "        text-align: right;\n",
       "    }\n",
       "</style>\n",
       "<table border=\"1\" class=\"dataframe\">\n",
       "  <thead>\n",
       "    <tr style=\"text-align: right;\">\n",
       "      <th></th>\n",
       "      <th>vars_name</th>\n",
       "      <th>mean_gist_yes</th>\n",
       "      <th>mean_gist_no</th>\n",
       "      <th>distance</th>\n",
       "      <th>ttest_statistic</th>\n",
       "      <th>ttest_pvalue</th>\n",
       "    </tr>\n",
       "  </thead>\n",
       "  <tbody>\n",
       "    <tr>\n",
       "      <th>0</th>\n",
       "      <td>0#1zPCREF_ap#1zPCDC#1zSMCAUSe_1p#-1zSMCAUSwn_a...</td>\n",
       "      <td>1.188094</td>\n",
       "      <td>0.146511</td>\n",
       "      <td>1.041582</td>\n",
       "      <td>6.432163</td>\n",
       "      <td>5.465148e-08</td>\n",
       "    </tr>\n",
       "  </tbody>\n",
       "</table>\n",
       "</div>"
      ],
      "text/plain": [
       "                                           vars_name  mean_gist_yes  \\\n",
       "0  0#1zPCREF_ap#1zPCDC#1zSMCAUSe_1p#-1zSMCAUSwn_a...       1.188094   \n",
       "\n",
       "   mean_gist_no  distance  ttest_statistic  ttest_pvalue  \n",
       "0      0.146511  1.041582         6.432163  5.465148e-08  "
      ]
     },
     "execution_count": 3,
     "metadata": {},
     "output_type": "execute_result"
    }
   ],
   "source": [
    "prefix_names = dict()\n",
    "prefix_names['gist_yes'] = 'discussion'\n",
    "prefix_names['gist_no'] = 'methods'\n",
    "md_results = Wolfe().run_benchmark('../gispy/wolfe_gispy.csv', prefix_names, \n",
    "                                   use_wolfe_vars=False, \n",
    "                                   use_gispy_vars=True, \n",
    "                                   plot=False)\n",
    "md_results.head(10)"
   ]
  },
  {
   "cell_type": "markdown",
   "metadata": {},
   "source": [
    "## Benchmark 3: Disney's Gist=`Yes` vs. Gist=`No`"
   ]
  },
  {
   "cell_type": "code",
   "execution_count": 4,
   "metadata": {
    "ExecuteTime": {
     "end_time": "2023-08-31T12:00:56.016331200Z",
     "start_time": "2023-08-31T12:00:55.877204700Z"
    }
   },
   "outputs": [
    {
     "name": "stdout",
     "output_type": "stream",
     "text": [
      "Config 1/1...\n"
     ]
    },
    {
     "data": {
      "text/html": [
       "<div>\n",
       "<style scoped>\n",
       "    .dataframe tbody tr th:only-of-type {\n",
       "        vertical-align: middle;\n",
       "    }\n",
       "\n",
       "    .dataframe tbody tr th {\n",
       "        vertical-align: top;\n",
       "    }\n",
       "\n",
       "    .dataframe thead th {\n",
       "        text-align: right;\n",
       "    }\n",
       "</style>\n",
       "<table border=\"1\" class=\"dataframe\">\n",
       "  <thead>\n",
       "    <tr style=\"text-align: right;\">\n",
       "      <th></th>\n",
       "      <th>vars_name</th>\n",
       "      <th>mean_gist_yes</th>\n",
       "      <th>mean_gist_no</th>\n",
       "      <th>distance</th>\n",
       "      <th>ttest_statistic</th>\n",
       "      <th>ttest_pvalue</th>\n",
       "    </tr>\n",
       "  </thead>\n",
       "  <tbody>\n",
       "    <tr>\n",
       "      <th>0</th>\n",
       "      <td>0#1zPCREF_ap#1zPCDC#1zSMCAUSe_1p#-1zSMCAUSwn_a...</td>\n",
       "      <td>0.126631</td>\n",
       "      <td>-0.489862</td>\n",
       "      <td>0.616493</td>\n",
       "      <td>3.478873</td>\n",
       "      <td>0.000629</td>\n",
       "    </tr>\n",
       "  </tbody>\n",
       "</table>\n",
       "</div>"
      ],
      "text/plain": [
       "                                           vars_name  mean_gist_yes  \\\n",
       "0  0#1zPCREF_ap#1zPCDC#1zSMCAUSe_1p#-1zSMCAUSwn_a...       0.126631   \n",
       "\n",
       "   mean_gist_no  distance  ttest_statistic  ttest_pvalue  \n",
       "0     -0.489862  0.616493         3.478873      0.000629  "
      ]
     },
     "execution_count": 4,
     "metadata": {},
     "output_type": "execute_result"
    }
   ],
   "source": [
    "prefix_names = dict()\n",
    "prefix_names['gist_yes'] = 'yes'\n",
    "prefix_names['gist_no'] = 'no'\n",
    "yn_results = Wolfe().run_benchmark('../gispy/disney_gispy.csv', prefix_names, \n",
    "                                   use_wolfe_vars=False, \n",
    "                                   use_gispy_vars=True, \n",
    "                                   plot=False)\n",
    "yn_results.head(10)"
   ]
  }
 ],
 "metadata": {
  "kernelspec": {
   "display_name": "Python 3 (ipykernel)",
   "language": "python",
   "name": "python3"
  },
  "language_info": {
   "codemirror_mode": {
    "name": "ipython",
    "version": 3
   },
   "file_extension": ".py",
   "mimetype": "text/x-python",
   "name": "python",
   "nbconvert_exporter": "python",
   "pygments_lexer": "ipython3",
   "version": "3.8.10"
  }
 },
 "nbformat": 4,
 "nbformat_minor": 4
}
